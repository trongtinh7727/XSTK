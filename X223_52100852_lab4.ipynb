{
 "cells": [
  {
   "cell_type": "code",
   "execution_count": 8,
   "metadata": {},
   "outputs": [
    {
     "name": "stdout",
     "output_type": "stream",
     "text": [
      "[0.169625, 0.16025, 0.1665, 0.1625, 0.171125, 0.17]\n",
      "0.496375\n"
     ]
    }
   ],
   "source": [
    "import random\n",
    "\n",
    "x = [random.randint(1,6) for i in range(8000)]\n",
    "X = set(x)\n",
    "# print(x)\n",
    "# print(X)\n"
   ]
  },
  {
   "cell_type": "code",
   "execution_count": 9,
   "metadata": {},
   "outputs": [
    {
     "name": "stdout",
     "output_type": "stream",
     "text": [
      "[0.169625, 0.16025, 0.1665, 0.1625, 0.171125, 0.17]\n"
     ]
    }
   ],
   "source": [
    "# Phân phối xác suất\n",
    "P = [x.count(i)/len(x) for i in X]\n",
    "print(P)\n"
   ]
  },
  {
   "cell_type": "code",
   "execution_count": 10,
   "metadata": {},
   "outputs": [
    {
     "name": "stdout",
     "output_type": "stream",
     "text": [
      "0.496375\n"
     ]
    }
   ],
   "source": [
    "# phân phối tích lũy\n",
    "FX = sum(P[:3])\n",
    "print(FX)"
   ]
  },
  {
   "cell_type": "code",
   "execution_count": 12,
   "metadata": {},
   "outputs": [
    {
     "name": "stdout",
     "output_type": "stream",
     "text": [
      "3.51525\n"
     ]
    }
   ],
   "source": [
    "# Ky vong\n",
    "EX = 0\n",
    "for x in X:\n",
    "    EX = EX + (x*P[x-1])\n",
    "print(EX)\n"
   ]
  },
  {
   "cell_type": "code",
   "execution_count": 13,
   "metadata": {},
   "outputs": [
    {
     "name": "stdout",
     "output_type": "stream",
     "text": [
      "2.9502674375\n"
     ]
    }
   ],
   "source": [
    "# Phuong sai\n",
    "\n",
    "VarX = 0\n",
    "for x in X:\n",
    "    VarX = VarX+(x-EX)*(x-EX)*P[x-1]\n",
    "print(VarX)"
   ]
  },
  {
   "cell_type": "code",
   "execution_count": 14,
   "metadata": {},
   "outputs": [
    {
     "name": "stdout",
     "output_type": "stream",
     "text": [
      "1.7176342560335713\n"
     ]
    }
   ],
   "source": [
    "# Do lech chuan\n",
    "import math\n",
    "SD = math.sqrt(VarX)\n",
    "print(SD)"
   ]
  },
  {
   "cell_type": "code",
   "execution_count": null,
   "metadata": {},
   "outputs": [],
   "source": [
    "# Exercise 6.1\n",
    "import numpy as np\n",
    "x = np.random.choice([0,1,2,3,4,5],360,p=[0.1,0.2,0.3,0.2,0.15,0.05])\n",
    "X = set(x)\n",
    "print(\"X = {}\".format(X))\n",
    "\n",
    "P = [list(x).count(i)/len(x) for i in X]\n",
    "print(\"P = {}\".format(P))\n",
    "\n",
    "\n",
    "EX = 0\n",
    "for x in X:\n",
    "    EX = EX + (x*P[x-1])\n",
    "print(\"Expectation: {}\".format(EX))\n",
    "\n",
    "VarX = 0\n",
    "for x in X:\n",
    "    VarX = VarX+(x-EX)*(x-EX)*P[x-1]\n",
    "print(\"Variance: {}\".format(VarX))\n",
    "\n",
    "SD = math.sqrt(VarX)\n",
    "print(\"Standard deviation: {}\".format(SD))\n",
    "\n",
    "print(\"Probability of having 3 or more emergency: {}\".format(sum(P[3:])))\n"
   ]
  },
  {
   "cell_type": "code",
   "execution_count": null,
   "metadata": {},
   "outputs": [],
   "source": [
    "# Exercise 6.2\n",
    "x = np.random.choice([0, 1, 2], 10000)\n",
    "X = set(x)\n",
    "print(\"X = {}\".format(X))\n",
    "\n",
    "P = [list(x).count(i)/len(x) for i in X]\n",
    "print(\"P = {}\".format(P))\n",
    "\n",
    "EX = 0\n",
    "for x in X:\n",
    "    EX = EX + (x*P[x-1])\n",
    "print(\"Expectation: {}\".format(EX))\n",
    "\n",
    "VarX = 0\n",
    "for x in X:\n",
    "    VarX = VarX+(x-EX)*(x-EX)*P[x-1]\n",
    "print(\"Variance: {}\".format(VarX))\n",
    "\n",
    "SD = math.sqrt(VarX)\n",
    "print(\"Standard deviation: {}\".format(SD))\n",
    "\n",
    "print(\"Probability of having 3 or more emergency: {}\".format(sum(P[1:])))\n"
   ]
  }
 ],
 "metadata": {
  "kernelspec": {
   "display_name": "Python 3.10.2 64-bit",
   "language": "python",
   "name": "python3"
  },
  "language_info": {
   "codemirror_mode": {
    "name": "ipython",
    "version": 3
   },
   "file_extension": ".py",
   "mimetype": "text/x-python",
   "name": "python",
   "nbconvert_exporter": "python",
   "pygments_lexer": "ipython3",
   "version": "3.10.2"
  },
  "orig_nbformat": 4,
  "vscode": {
   "interpreter": {
    "hash": "cc3fc6ee454d8c63ae888e045a84e1e006900299fbdf242ff52925b3f67e57ad"
   }
  }
 },
 "nbformat": 4,
 "nbformat_minor": 2
}
