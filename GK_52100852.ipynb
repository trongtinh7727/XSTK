{
 "cells": [
  {
   "cell_type": "markdown",
   "metadata": {},
   "source": [
    "# Bài giữa kỳ\n",
    "## Mean()"
   ]
  },
  {
   "cell_type": "code",
   "execution_count": 34,
   "metadata": {},
   "outputs": [
    {
     "name": "stdout",
     "output_type": "stream",
     "text": [
      "Mean is : 3\n"
     ]
    }
   ],
   "source": [
    "import statistics\n",
    "data1 = [1, 2, 6]\n",
    "x = statistics.mean(data1)\n",
    "# Printing the mean\n",
    "print(\"Mean is :\", x)\n"
   ]
  },
  {
   "cell_type": "markdown",
   "metadata": {},
   "source": [
    "## Fmean()"
   ]
  },
  {
   "cell_type": "code",
   "execution_count": 35,
   "metadata": {},
   "outputs": [
    {
     "name": "stdout",
     "output_type": "stream",
     "text": [
      "Mean is : 3.0\n"
     ]
    }
   ],
   "source": [
    "import statistics\n",
    "data1 = [1, 2, 6]\n",
    "x = statistics.fmean(data1)\n",
    "# Printing the mean\n",
    "print(\"Mean is :\", x)\n"
   ]
  },
  {
   "cell_type": "markdown",
   "metadata": {},
   "source": [
    "## Geometric_mean()"
   ]
  },
  {
   "cell_type": "code",
   "execution_count": 36,
   "metadata": {},
   "outputs": [
    {
     "name": "stdout",
     "output_type": "stream",
     "text": [
      "Geometric mean is : 2.0\n"
     ]
    }
   ],
   "source": [
    "import statistics\n",
    "data1 = [1, 2, 4]\n",
    "x = statistics.geometric_mean(data1)\n",
    "# Printing the Geometric mean\n",
    "print(\"Geometric mean is :\", x)\n"
   ]
  },
  {
   "cell_type": "markdown",
   "metadata": {},
   "source": [
    "## Harmonic_mean()"
   ]
  },
  {
   "cell_type": "code",
   "execution_count": 37,
   "metadata": {},
   "outputs": [
    {
     "name": "stdout",
     "output_type": "stream",
     "text": [
      "Harmonic mean is : 1.7142857142857142\n"
     ]
    }
   ],
   "source": [
    "import statistics\n",
    "data1 = [1, 2, 4]\n",
    "x = statistics.harmonic_mean(data1)\n",
    "# Printing the mean\n",
    "print(\"Harmonic mean is :\", x)\n"
   ]
  },
  {
   "cell_type": "markdown",
   "metadata": {},
   "source": [
    "## Median()"
   ]
  },
  {
   "cell_type": "code",
   "execution_count": 44,
   "metadata": {},
   "outputs": [
    {
     "name": "stdout",
     "output_type": "stream",
     "text": [
      "Median is of data1 : 2\n",
      "Median is of data2: 3.0\n"
     ]
    }
   ],
   "source": [
    "import statistics\n",
    "data1 = [1, 2, 4]\n",
    "data2 = [1, 2, 4, 5]\n",
    "x1 = statistics.median(data1)\n",
    "x2 = statistics.median(data2)\n",
    "# Printing the median\n",
    "print(\"Median is of data1 :\", x1)\n",
    "print(\"Median is of data2:\", x2)\n"
   ]
  },
  {
   "cell_type": "markdown",
   "metadata": {},
   "source": [
    "## Median_low()"
   ]
  },
  {
   "cell_type": "code",
   "execution_count": 48,
   "metadata": {},
   "outputs": [
    {
     "name": "stdout",
     "output_type": "stream",
     "text": [
      "Low median is of data1 : 2\n",
      "Low median is of data2: 2\n"
     ]
    }
   ],
   "source": [
    "import statistics\n",
    "data1 = [1, 2, 4]\n",
    "data2 = [1, 2, 4, 5]\n",
    "x1 = statistics.median_low(data1)\n",
    "x2 = statistics.median_low(data2)\n",
    "# Printing the median\n",
    "print(\"Low median is of data1 :\", x1)\n",
    "print(\"Low median is of data2:\", x2)\n"
   ]
  },
  {
   "cell_type": "code",
   "execution_count": null,
   "metadata": {},
   "outputs": [],
   "source": [
    "import statistics\n",
    "data1 = [1, 2, 4]\n",
    "data2 = [1, 2, 4, 5]\n",
    "x1 = statistics.median_high(data1)\n",
    "x2 = statistics.median_high(data2)\n",
    "# Printing the median\n",
    "print(\"High median is of data1 :\", x1)\n",
    "print(\"High median is of data2:\", x2)\n"
   ]
  },
  {
   "cell_type": "code",
   "execution_count": 13,
   "metadata": {},
   "outputs": [
    {
     "name": "stdout",
     "output_type": "stream",
     "text": [
      "Median of grouped continuous data: 2.25\n"
     ]
    }
   ],
   "source": [
    "import statistics\n",
    "data1 = [1, 2, 2, 3, 4]\n",
    "\n",
    "x1 = statistics.median_grouped(data1)\n",
    "# Median of grouped continuous data\n",
    "print(\"Median of grouped continuous data:\", x1)\n"
   ]
  },
  {
   "cell_type": "code",
   "execution_count": 20,
   "metadata": {},
   "outputs": [
    {
     "name": "stdout",
     "output_type": "stream",
     "text": [
      "Mode of data: 2\n",
      "Mode of data: red\n"
     ]
    }
   ],
   "source": [
    "import statistics\n",
    "data1 = [1, 2, 2, 3, 3, 4]\n",
    "data2 = [\"red\", \"blue\", \"blue\", \"red\", \"green\", \"red\", \"red\"]\n",
    "\n",
    "x1 = statistics.mode(data1)\n",
    "x2 = statistics.mode(data2)\n",
    "# Mode of data\n",
    "print(\"Mode of data:\", x1)\n",
    "print(\"Mode of data:\", x2)\n"
   ]
  },
  {
   "cell_type": "code",
   "execution_count": 26,
   "metadata": {},
   "outputs": [
    {
     "name": "stdout",
     "output_type": "stream",
     "text": [
      "List mode of data1: [2, 3]\n",
      "List mode of data2: ['red']\n",
      "List mode of data3: []\n"
     ]
    }
   ],
   "source": [
    "import statistics\n",
    "data1 = [1, 2, 2, 2, 3, 3, 3, 4, 4]\n",
    "data2 = [\"red\", \"blue\", \"blue\", \"red\", \"green\", \"red\", \"red\"]\n",
    "data3 = []\n",
    "\n",
    "x1 = statistics.multimode(data1)\n",
    "x2 = statistics.multimode(data2)\n",
    "x3 = statistics.multimode(data3)\n",
    "# List mode of data\n",
    "print(\"List mode of data1:\", x1)\n",
    "print(\"List mode of data2:\", x2)\n",
    "print(\"List mode of data3:\", x3)\n"
   ]
  },
  {
   "cell_type": "code",
   "execution_count": 2,
   "metadata": {},
   "outputs": [
    {
     "name": "stdout",
     "output_type": "stream",
     "text": [
      "Population standard deviation of data: 0.9428090415820634\n"
     ]
    }
   ],
   "source": [
    "import statistics\n",
    "data1 = [1, 2, 2, 2, 3, 3, 3, 4, 4]\n",
    "\n",
    "x1 = statistics.pstdev(data1)\n",
    "# Population standard deviation of data\n",
    "print(\"Population standard deviation of data:\", x1)\n"
   ]
  },
  {
   "cell_type": "code",
   "execution_count": 4,
   "metadata": {},
   "outputs": [
    {
     "name": "stdout",
     "output_type": "stream",
     "text": [
      "Population variance of data: 0.8888888888888888\n"
     ]
    }
   ],
   "source": [
    "import statistics\n",
    "data1 = [1, 2, 2, 2, 3, 3, 3, 4, 4]\n",
    "\n",
    "x1 = statistics.pvariance(data1)\n",
    "# Population variance of data\n",
    "print(\"Population variance of data:\", x1)\n"
   ]
  },
  {
   "cell_type": "code",
   "execution_count": 7,
   "metadata": {},
   "outputs": [
    {
     "name": "stdout",
     "output_type": "stream",
     "text": [
      "Sample standard deviation of data: 1.0\n"
     ]
    }
   ],
   "source": [
    "import statistics\n",
    "data1 = [1, 2, 2, 2, 3, 3, 3, 4, 4]\n",
    "\n",
    "x1 = statistics.stdev(data1)\n",
    "# Sample standard deviation of data\n",
    "print(\"Sample standard deviation of data:\", x1)\n"
   ]
  },
  {
   "cell_type": "code",
   "execution_count": 8,
   "metadata": {},
   "outputs": [
    {
     "name": "stdout",
     "output_type": "stream",
     "text": [
      "Sample variance of data: 1\n"
     ]
    }
   ],
   "source": [
    "import statistics\n",
    "data1 = [1, 2, 2, 2, 3, 3, 3, 4, 4]\n",
    "\n",
    "x1 = statistics.variance(data1)\n",
    "# Sample variance of data\n",
    "print(\"Sample variance of data:\", x1)\n"
   ]
  },
  {
   "cell_type": "code",
   "execution_count": 7,
   "metadata": {},
   "outputs": [
    {
     "name": "stdout",
     "output_type": "stream",
     "text": [
      "Quantiles: [1.75, 3.5, 5.25]\n"
     ]
    }
   ],
   "source": [
    "import statistics\n",
    "data1 = [1, 2, 3,4,5,6]\n",
    "\n",
    "x1 = statistics.quantiles(data1,n= 4)\n",
    "# Quantiles\n",
    "print(\"Quantiles:\", x1)\n"
   ]
  },
  {
   "cell_type": "code",
   "execution_count": 15,
   "metadata": {},
   "outputs": [
    {
     "name": "stdout",
     "output_type": "stream",
     "text": [
      "covariance: 2.5\n"
     ]
    }
   ],
   "source": [
    "import statistics\n",
    "data1 = [1, 2, 3, 4, 5, 6]\n",
    "data2 = [1, 2, 3, 4, 5, 4]\n",
    "\n",
    "x1 = statistics.covariance(data1, data2)\n",
    "# covariance\n",
    "print(\"covariance:\", x1)\n"
   ]
  },
  {
   "cell_type": "code",
   "execution_count": 18,
   "metadata": {},
   "outputs": [
    {
     "name": "stdout",
     "output_type": "stream",
     "text": [
      "correlation: 0.9767483130677757\n"
     ]
    }
   ],
   "source": [
    "import statistics\n",
    "data1 = [1, 2, 3, 4, 5, 6]\n",
    "data2 = [1, 2, 3, 4, 4, 6]\n",
    "\n",
    "x1 = statistics.correlation(data1, data2)\n",
    "# correlation\n",
    "print(\"correlation:\", x1)\n"
   ]
  }
 ],
 "metadata": {
  "kernelspec": {
   "display_name": "Python 3.10.2 64-bit",
   "language": "python",
   "name": "python3"
  },
  "language_info": {
   "codemirror_mode": {
    "name": "ipython",
    "version": 3
   },
   "file_extension": ".py",
   "mimetype": "text/x-python",
   "name": "python",
   "nbconvert_exporter": "python",
   "pygments_lexer": "ipython3",
   "version": "3.10.2"
  },
  "orig_nbformat": 4,
  "vscode": {
   "interpreter": {
    "hash": "cc3fc6ee454d8c63ae888e045a84e1e006900299fbdf242ff52925b3f67e57ad"
   }
  }
 },
 "nbformat": 4,
 "nbformat_minor": 2
}
